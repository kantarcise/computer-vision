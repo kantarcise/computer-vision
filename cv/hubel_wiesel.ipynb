{
 "cells": [
  {
   "cell_type": "markdown",
   "metadata": {},
   "source": [
    "## Huebel and Wiesel 🐱\n",
    "\n",
    "The [link to the Paper.](https://physoc.onlinelibrary.wiley.com/doi/epdf/10.1113/jphysiol.1959.sp006308) Here is a short video called, [The Cat Experiment.](https://www.youtube.com/watch?v=IOHayh06LJ4) \n",
    "\n",
    "_\"When we started working in the late 50s we set up her first experiments and they didn't go well._\n",
    "\n",
    "_Because at the beginning we couldn't make the cells fire at all we'd shine lights all over the screen and nothing seemed to work. Rather by accident one day we were shining small spots either white spots or black spots onto the screen._\n",
    "\n",
    "_We found that the black dot seemed to be working in a way that at first we couldn't understand until we found that it was the process of slipping the piece of glass into the projector which swept a lie a very faint precise narrow line across the retina._\n",
    "\n",
    "_And every time we did that we'd get a response\"_\n",
    "\n",
    "\n",
    "![Findings](../img/hubel_wiesel_findings.png)\n",
    "\n",
    "#### Here are the findings:\n",
    "\n",
    "- In **particular orientation**, neurons get excited about edges.\n",
    "\n",
    "- Nearby cells in the visual cortex are processing nearby areas in your visual field. **Locality** is preserved in processing.\n",
    "\n",
    "- Visual cortex has a hierarchical organization. Simple cells to complex cells through layers.\n",
    "\n",
    "\n",
    "![Featural Hierarchy](../img/hubel_wiesel_hierarchy.png)\n",
    "\n",
    "\n"
   ]
  },
  {
   "cell_type": "markdown",
   "metadata": {},
   "source": [
    "### To learn more about Perception 👀\n",
    "\n",
    "Here is a wonderful link about [human perception.](https://www.cns.nyu.edu/~david/courses/perception/lecturenotes/V1/lgn-V1.html)\n",
    "\n",
    "_David Hubel and Torsten Wiesel won the Nobel prize for discovering the functional organization and basic physiology of neurons in V1. They discovered three different types of neurons that can be distinguished based on how they respond to visual stimuli that they called: simple cells, complex cells, and hypercomplex cells._ \n",
    "\n",
    "_V1 neurons transform information (unlike LGN cells whose receptive fields look just like those of ganglion cells) so that they are orientation selective and direction selective._\n",
    "\n",
    "**Orientation selectivity**: Most V1 neurons are orientation selective meaning that they respond strongly to lines, bars, or edges of a particular orientation (e.g., vertical) but not to the orthogonal orientation (e.g., horizontal).\n",
    "\n",
    "**Direction selectivity**: Some V1 cells are also direction selective meaning that they respond strongly to oriented lines/bars/edges moving in a preferred direction (e.g., vertical lines moving to the right) but not at all in the opposite direction (e.g., vertical lines moving to the left).\n",
    "\n",
    "![Direction Selectivity](../img/hubel_wiesel_direction_selectivity.jpg)\n",
    "\n",
    "**V1 functional architecture**: Hubel and Wiesel also discovered that the neurons in V1 are arranged in an orderly fashion. \n",
    "\n",
    "Neurons with similar response properties (e.g., the same orientation preference) lie nearby one another.\n",
    "\n",
    "\n",
    "**Columnar architecture**: As one moves an electrode vertically through the thickness of cortex, one finds that most neurons have the same selectivity (e.g., the same orientation preference and eye dominance). \n",
    "\n",
    "Ocular dominance columns: As one moves an electrode tangentially through the cortex, one first finds cells that respond to left eye inputs, then binocular (responsive to both/either eye), then right eye, then binocular, then left again, etc. \n",
    "\n",
    "Orientation columns: As one moves the electrode tangentially in the orthogonal direction, one first find cells selective for vertical, then diagonal, then horizontal, etc. \n",
    "\n",
    "A hypercolumn is a chunk of cortex about 1 mm square by 3 mm thickn that contains neurons, all with approximately the same receptive field location, but with all different orientation selectivities, direction selectivities, both (left- and right-) eye dominances represented.\n",
    "\n",
    "![Columnar architecture](../img/hubel_wiesel_columnar_architecture.jpg)"
   ]
  },
  {
   "cell_type": "markdown",
   "metadata": {},
   "source": [
    "Also in this [MIT Course - 9.11: The Human Brain ](https://www.youtube.com/watch?v=ePP0G7FJGPI) you can learn about more for these findings."
   ]
  },
  {
   "cell_type": "markdown",
   "metadata": {},
   "source": []
  }
 ],
 "metadata": {
  "language_info": {
   "name": "python"
  }
 },
 "nbformat": 4,
 "nbformat_minor": 2
}
